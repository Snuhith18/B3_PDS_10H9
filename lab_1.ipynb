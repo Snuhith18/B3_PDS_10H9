{
  "nbformat": 4,
  "nbformat_minor": 0,
  "metadata": {
    "colab": {
      "provenance": []
    },
    "kernelspec": {
      "name": "python3",
      "display_name": "Python 3"
    },
    "language_info": {
      "name": "python"
    }
  },
  "cells": [
    {
      "cell_type": "code",
      "execution_count": 3,
      "metadata": {
        "colab": {
          "base_uri": "https://localhost:8080/"
        },
        "id": "9u08t-KDF8Vb",
        "outputId": "fb7c39ae-acca-498d-934a-f2469ef779d1"
      },
      "outputs": [
        {
          "output_type": "stream",
          "name": "stdout",
          "text": [
            "Enter a number (≤ 10): 0\n",
            "\n",
            "Result: 1\n"
          ]
        }
      ],
      "source": [
        "def fact(n, depth=0):\n",
        "    space = \"  \" * depth\n",
        "\n",
        "    if n == 0 or n == 1:\n",
        "\n",
        "        return 1\n",
        "    else:\n",
        "        res = n * fact(n - 1, depth + 1)\n",
        "\n",
        "        return res\n",
        "\n",
        "num = int(input(\"Enter a number (≤ 10): \"))\n",
        "if 0 <= num <= 10:\n",
        "    result = fact(num)\n",
        "    print(f\"\\nResult: {result}\")\n",
        "else:\n",
        "    print(\"Invalid input. Please enter a number between 0 and 10.\")"
      ]
    }
  ]
}